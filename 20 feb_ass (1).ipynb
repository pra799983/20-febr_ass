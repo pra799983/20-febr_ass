{
 "cells": [
  {
   "cell_type": "code",
   "execution_count": null,
   "id": "716186a7-4df4-4334-84e7-13f83b61a3b8",
   "metadata": {},
   "outputs": [],
   "source": [
    "Q1. Explain GET and POST methods."
   ]
  },
  {
   "cell_type": "code",
   "execution_count": null,
   "id": "1e5ba182-7381-451b-a769-0195bab09108",
   "metadata": {},
   "outputs": [],
   "source": [
    "GET and POST are two common HTTP methods used to retrieve and send data between a client (such as a web browser) and a server. They differ in their\n",
    "purpose and how they interact with the server.\n",
    "\n",
    "GET Method:\n",
    "\n",
    "The GET method is used to retrieve data from the server.\n",
    "When a client sends a GET request to a server, it asks the server to return a specific resource or data.\n",
    "GET requests are typically used for retrieving information, such as fetching a webpage, retrieving search results, or fetching data from an API.\n",
    "GET requests can have parameters appended to the URL as query strings. For example, https://example.com/api?param1=value1&param2=value2.\n",
    "GET requests are idempotent, which means sending the same GET request multiple times should produce the same result and have no side effects.\n",
    "GET requests are usually cached by browsers, so subsequent requests for the same resource can be served from the cache, improving performance.\n",
    "\n",
    "POST Method:\n",
    "\n",
    "The POST method is used to send data to the server, typically for the purpose of creating or updating a resource.\n",
    "When a client sends a POST request to a server, it includes data in the request body, which the server can process and use to perform specific actions.\n",
    "POST requests are commonly used for submitting forms, uploading files, or making API requests that modify server-side data.\n",
    "POST requests do not cache the data sent in the request body.\n",
    "POST requests are not idempotent, meaning that sending the same request multiple times may result in different outcomes or side effects on the server.\n",
    "Security-sensitive operations, such as changing passwords or making financial transactions, are typically implemented using POST requests to ensure \n",
    "that data is not exposed in the URL or cached by browsers."
   ]
  },
  {
   "cell_type": "code",
   "execution_count": null,
   "id": "32d8d532-b6d5-47ca-9f98-ca6185c80885",
   "metadata": {},
   "outputs": [],
   "source": [
    "Q2. Why is request used in Flask?"
   ]
  },
  {
   "cell_type": "code",
   "execution_count": null,
   "id": "7e72d694-140d-4165-bd23-022df5c033c7",
   "metadata": {},
   "outputs": [],
   "source": [
    "In Flask, the request object is a crucial component that allows you to access and handle incoming HTTP requests made to your Flask application.\n",
    "It provides a way to extract information from the request, such as form data, query parameters, headers, and files uploaded by the client.\n",
    "The request object is essential for building dynamic web applications and processing user input.\n",
    "\n",
    "Here are some key reasons why the request object is used in Flask:\n",
    "\n",
    "Retrieving Form Data: When a user submits an HTML form, the form data is sent in the request body. The request object allows you to access this \n",
    "form data, retrieve the values entered by the user, and process them in your Flask application. You can access form data using request.form or\n",
    "request.values.\n",
    "\n",
    "Handling Query Parameters: Query parameters are used to pass data in the URL, typically in GET requests. The request object provides access to \n",
    "these query parameters, allowing you to extract the values and incorporate them into your Flask application's logic. You can access query parameters\n",
    "using request.args.\n",
    "\n",
    "Accessing Headers: HTTP headers carry additional information about the request, such as the user agent, content type, or authentication details. \n",
    "The request object allows you to access these headers through the request.headers attribute, enabling you to extract and utilize the header \n",
    "information as needed.\n",
    "\n",
    "Uploading Files: The request object facilitates file uploads in Flask. When a client uploads a file, the request object allows you to access the\n",
    "uploaded file and save it to the server's filesystem or process it in other ways. You can access the uploaded files through the request.files\n",
    "attribute.\n",
    "\n",
    "Session Management: The request object plays a crucial role in session management in Flask. It allows you to access the user's session data,\n",
    "retrieve stored values, and modify them as needed. The session data is typically stored on the server-side and associated with a user's session ID,\n",
    "which is managed by cookies or other mechanisms.\n",
    "\n",
    "HTTP Methods and URLs: The request object provides information about the HTTP method used in the request (request.method) and the requested URL \n",
    "(request.url). This allows you to determine the action to take based on the HTTP method (e.g., GET, POST) and route the request to the appropriate\n",
    "Flask view or function."
   ]
  },
  {
   "cell_type": "code",
   "execution_count": null,
   "id": "2c69346f-fa86-4ea2-a43f-9ea5b69a2106",
   "metadata": {},
   "outputs": [],
   "source": [
    "Q3. Why is redirect() used in Flask?"
   ]
  },
  {
   "cell_type": "code",
   "execution_count": null,
   "id": "7187d879-e056-425a-8a4b-9ad37ec7225f",
   "metadata": {},
   "outputs": [],
   "source": [
    "In Flask, the redirect() function is used to perform a redirection to a different URL. It allows you to redirect the user's browser from one route or\n",
    "URL to another, typically after processing a form submission, completing an action, or handling a specific request. The redirect() function provides \n",
    "a convenient way to redirect users to a different page or route within your Flask application or to an external URL.\n",
    "\n",
    "Here are some reasons why redirect() is used in Flask:\n",
    "\n",
    "Post-Form Submission Redirect: After a user submits a form, it is common to redirect them to a different page to display a success message, show the\n",
    "updated data, or prevent duplicate form submissions. By using redirect(), you can redirect the user to a specific URL or route that handles the \n",
    "post-submission logic.\n",
    "\n",
    "URL Routing: In Flask, you can define multiple routes for different functionalities or views within your application. The redirect() function allows \n",
    "you to route the user's request to a different route based on certain conditions or to provide a more appropriate URL. It helps maintain a clean and \n",
    "organized URL structure for your application.\n",
    "\n",
    "Handling Authentication and Authorization: When implementing authentication and authorization in Flask, redirect() can be used to redirect users to a\n",
    "login page if they try to access a restricted resource without proper authentication. It allows you to redirect users to a specific URL or route\n",
    "where they can log in, authenticate, and then be redirected back to the original resource.\n",
    "\n",
    "External Redirects: Besides redirecting within your Flask application, redirect() also supports redirecting to external URLs. This is useful when\n",
    "you need to redirect users to a different website or external service. You can simply provide the external URL as the argument to redirect(), and\n",
    "Flask will send the appropriate redirect response to the user's browser."
   ]
  },
  {
   "cell_type": "code",
   "execution_count": null,
   "id": "85a18679-4840-4859-8d3a-05e4ab16c22f",
   "metadata": {},
   "outputs": [],
   "source": [
    "Q4. What are templates in Flask? Why is the render_template() function used?"
   ]
  },
  {
   "cell_type": "code",
   "execution_count": null,
   "id": "6cc36bc8-d986-4aba-a479-bcbb3b7e451a",
   "metadata": {},
   "outputs": [],
   "source": [
    "n Flask, templates are used to generate dynamic HTML pages by combining static HTML markup with dynamic content. Templates allow you to separate \n",
    "the presentation logic from the application logic, making it easier to manage and maintain the user interface of your Flask application.\n",
    "\n",
    "Templates in Flask are typically written using a templating language called Jinja2, which is integrated into Flask. Jinja2 provides powerful \n",
    "features like template inheritance, conditionals, loops, variable interpolation, and more, allowing you to build dynamic and reusable HTML templates."
   ]
  },
  {
   "cell_type": "code",
   "execution_count": null,
   "id": "16133da9-fbd0-421c-a1e5-706b9c23322a",
   "metadata": {},
   "outputs": [],
   "source": [
    "Q5. Create a simple API. Use Postman to test it. Attach the screenshot of the output in the Jupyter Notebook"
   ]
  },
  {
   "cell_type": "code",
   "execution_count": null,
   "id": "7cbdf457-aaa2-4c96-8adc-a165256e4299",
   "metadata": {},
   "outputs": [],
   "source": [
    "from flask import Flask, jsonify, request\n",
    "\n",
    "app = Flask(__name__)\n",
    "\n",
    "@app.route('/api/hello', methods=['GET'])\n",
    "def hello():\n",
    "    name = request.args.get('name', 'Guest')\n",
    "    message = f\"Hello, {name}!\"\n",
    "    return jsonify(message=message)\n",
    "\n",
    "if __name__ == '__main__':\n",
    "    app.run()\n"
   ]
  }
 ],
 "metadata": {
  "kernelspec": {
   "display_name": "Python 3 (ipykernel)",
   "language": "python",
   "name": "python3"
  },
  "language_info": {
   "codemirror_mode": {
    "name": "ipython",
    "version": 3
   },
   "file_extension": ".py",
   "mimetype": "text/x-python",
   "name": "python",
   "nbconvert_exporter": "python",
   "pygments_lexer": "ipython3",
   "version": "3.10.8"
  }
 },
 "nbformat": 4,
 "nbformat_minor": 5
}
